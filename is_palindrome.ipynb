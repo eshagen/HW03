{
 "metadata": {
  "name": "",
  "signature": "sha256:b84afde1ae6486ba7bc7d5b650a00d3adb0915f106d4b8d6b438fcfebbb85988"
 },
 "nbformat": 3,
 "nbformat_minor": 0,
 "worksheets": [
  {
   "cells": [
    {
     "cell_type": "code",
     "collapsed": false,
     "input": [
      "def is_palindrome(s):\n",
      "    reversed = s[::-1]  #reversing the string\n",
      "    if s == reversed:\n",
      "        return True\n",
      "    else:\n",
      "        return False\n",
      "############################################################################\n",
      "print is_palindrome(\"Python\")\n",
      "print is_palindrome(\"evitative\")\n",
      "print is_palindrome(\"sememes\")\n",
      "print is_palindrome(\"oooooooooooo\")"
     ],
     "language": "python",
     "metadata": {},
     "outputs": []
    },
    {
     "cell_type": "code",
     "collapsed": false,
     "input": [
      "def backwards(word):\n",
      "    return word[::-1]\n",
      "\n",
      "def is_palindrome(s):\n",
      "    if str(s) == str(backwards(s)):\n",
      "        return True\n",
      "    else:\n",
      "        return False\n",
      "############################################################################\n",
      "print is_palindrome(\"Python\")\n",
      "print is_palindrome(\"evitative\")\n",
      "print is_palindrome(\"sememes\")\n",
      "print is_palindrome(\"oooooooooooo\")"
     ],
     "language": "python",
     "metadata": {},
     "outputs": []
    },
    {
     "cell_type": "code",
     "collapsed": false,
     "input": [
      "def first(word):\n",
      "    return word[0]\n",
      "def last(word):\n",
      "    return word[-1]\n",
      "def middle(word):\n",
      "    return word[1:-1]\n",
      "\n",
      "def is_palindrome(word):\n",
      "    backward = word[::-1]\n",
      "    if first(word) == last(word) and middle(word) == middle(backward) :\n",
      "        return True\n",
      "    else :\n",
      "        return False\n",
      "############################################################################\n",
      "print is_palindrome(\"Python\")\n",
      "print is_palindrome(\"evitative\")\n",
      "print is_palindrome(\"sememes\")\n",
      "print is_palindrome(\"oooooooooooo\")"
     ],
     "language": "python",
     "metadata": {},
     "outputs": []
    },
    {
     "cell_type": "code",
     "collapsed": false,
     "input": [
      "def is_palindrome(s):\n",
      "    return s == s[::-1]\n",
      "############################################################################\n",
      "print is_palindrome(\"Python\")\n",
      "print is_palindrome(\"evitative\")\n",
      "print is_palindrome(\"sememes\")\n",
      "print is_palindrome(\"oooooooooooo\")"
     ],
     "language": "python",
     "metadata": {},
     "outputs": []
    },
    {
     "cell_type": "code",
     "collapsed": false,
     "input": [
      "def is_palindrome(word):\n",
      "    if len(word) <= 1:\n",
      "        return True\n",
      "    elif (word[-1] == word[0]) and is_palindrome(word[1:-1]):\n",
      "        return True\n",
      "    else:\n",
      "        return False\n",
      "############################################################################\n",
      "print is_palindrome(\"Python\")\n",
      "print is_palindrome(\"evitative\")\n",
      "print is_palindrome(\"sememes\")\n",
      "print is_palindrome(\"oooooooooooo\")"
     ],
     "language": "python",
     "metadata": {},
     "outputs": []
    },
    {
     "cell_type": "code",
     "collapsed": false,
     "input": [],
     "language": "python",
     "metadata": {},
     "outputs": []
    }
   ],
   "metadata": {}
  }
 ]
}