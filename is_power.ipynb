{
 "metadata": {
  "name": "",
  "signature": "sha256:74a717ea873dbe42623642c88e4112c6a9d1d68dd6d1b6122d22529fbe64a939"
 },
 "nbformat": 3,
 "nbformat_minor": 0,
 "worksheets": [
  {
   "cells": [
    {
     "cell_type": "code",
     "collapsed": false,
     "input": [
      "def is_power(a,b):\n",
      "    if a == 1:          #assuming that b^0 is 1 which is also a power of b\n",
      "        return True\n",
      "    elif a%b == 0:\n",
      "        return is_power(a/b,b)\n",
      "    else:\n",
      "        return False\n",
      "################################################################################\n",
      "print is_power(28,3)\n",
      "print is_power(27,3)\n",
      "print is_power(248832,12)\n",
      "print is_power(248844,12)"
     ],
     "language": "python",
     "metadata": {},
     "outputs": []
    },
    {
     "cell_type": "code",
     "collapsed": false,
     "input": [
      "#NEW\n",
      "################################################################################\n",
      "print is_power(1,10)\n",
      "print is_power(100,2)"
     ],
     "language": "python",
     "metadata": {},
     "outputs": []
    },
    {
     "cell_type": "code",
     "collapsed": false,
     "input": [
      "def is_divisible(a,b):\n",
      "    quotient = float(a)/b\n",
      "    if(int(quotient) == quotient):\n",
      "        return True\n",
      "\n",
      "def is_power(a,b):\n",
      "    if(is_divisible(a,b)):\n",
      "        c = a/b\n",
      "        if(is_divisible(c,b)):\n",
      "            return True\n",
      "        else:\n",
      "            return False\n",
      "    else:\n",
      "        return False\n",
      "################################################################################\n",
      "print is_power(28,3)\n",
      "print is_power(27,3)\n",
      "print is_power(248832,12)\n",
      "print is_power(248844,12)"
     ],
     "language": "python",
     "metadata": {},
     "outputs": []
    },
    {
     "cell_type": "code",
     "collapsed": false,
     "input": [
      "#NEW\n",
      "################################################################################\n",
      "print is_power(1,10)\n",
      "print is_power(100,2)"
     ],
     "language": "python",
     "metadata": {},
     "outputs": []
    },
    {
     "cell_type": "code",
     "collapsed": false,
     "input": [
      "def is_power(a,b):\n",
      "    result = 'Uninitialized'\n",
      "    def check_power(quotient,b):\n",
      "        remainder = quotient % b\n",
      "        if remainder == 0:\n",
      "            quotient = quotient / b\n",
      "            if quotient == 1:\n",
      "                global result \n",
      "                result = True\n",
      "            else:    \n",
      "                check_power(quotient,b)   \n",
      "        else:\n",
      "            result = False\n",
      "        return result\n",
      "        \n",
      "    def check_div(a,b):\n",
      "        if a % b == 0:\n",
      "            return True\n",
      "        else:\n",
      "            return False\n",
      "\n",
      "    x = a / b\n",
      "    if check_power(x,b) and check_div(a,b):\n",
      "        return True\n",
      "    else:\n",
      "        return False\n",
      "################################################################################\n",
      "print is_power(28,3)\n",
      "print is_power(27,3)\n",
      "print is_power(248832,12)\n",
      "print is_power(248844,12)"
     ],
     "language": "python",
     "metadata": {},
     "outputs": []
    },
    {
     "cell_type": "code",
     "collapsed": false,
     "input": [
      "#NEW\n",
      "################################################################################\n",
      "print is_power(1,10)\n",
      "print is_power(100,2)"
     ],
     "language": "python",
     "metadata": {},
     "outputs": []
    },
    {
     "cell_type": "code",
     "collapsed": false,
     "input": [
      "def is_power(a,b):\n",
      "    division = a/b\n",
      "    if division == 1:\n",
      "        return True\n",
      "    elif division%b == 0 and a%b == 0:\n",
      "        is_power(division,b)\n",
      "        return True\n",
      "    else:\n",
      "        return False\n",
      "################################################################################\n",
      "print is_power(28,3)\n",
      "print is_power(27,3)\n",
      "print is_power(248832,12)\n",
      "print is_power(248844,12)"
     ],
     "language": "python",
     "metadata": {},
     "outputs": []
    },
    {
     "cell_type": "code",
     "collapsed": false,
     "input": [
      "#NEW\n",
      "################################################################################\n",
      "print is_power(1,10)\n",
      "print is_power(100,2)"
     ],
     "language": "python",
     "metadata": {},
     "outputs": []
    },
    {
     "cell_type": "code",
     "collapsed": false,
     "input": [
      "def is_power(a,b):\n",
      "    if ((a%b == 0) and ((a/b)%b) == 0):\n",
      "        return True\n",
      "    else:\n",
      "        return False\n",
      "################################################################################\n",
      "print is_power(28,3)\n",
      "print is_power(27,3)\n",
      "print is_power(248832,12)\n",
      "print is_power(248844,12)"
     ],
     "language": "python",
     "metadata": {},
     "outputs": []
    },
    {
     "cell_type": "code",
     "collapsed": false,
     "input": [
      "#NEW\n",
      "################################################################################\n",
      "print is_power(1,10)\n",
      "print is_power(100,2)"
     ],
     "language": "python",
     "metadata": {},
     "outputs": []
    },
    {
     "cell_type": "code",
     "collapsed": false,
     "input": [
      "def is_power(a, b):\n",
      "    c = a / b  \n",
      "    if a%b != 0 or c%b != 0:\n",
      "        return False\n",
      "    else :\n",
      "        return True\n",
      "################################################################################\n",
      "print is_power(28,3)\n",
      "print is_power(27,3)\n",
      "print is_power(248832,12)\n",
      "print is_power(248844,12)"
     ],
     "language": "python",
     "metadata": {},
     "outputs": []
    },
    {
     "cell_type": "code",
     "collapsed": false,
     "input": [
      "#NEW\n",
      "################################################################################\n",
      "print is_power(1,10)\n",
      "print is_power(100,2)"
     ],
     "language": "python",
     "metadata": {},
     "outputs": []
    },
    {
     "cell_type": "code",
     "collapsed": false,
     "input": [
      "def is_power(a, b):\n",
      "    if (a % b == 0):\n",
      "        return True\n",
      "        if (a/b == 1):\n",
      "            return True\n",
      "        else:\n",
      "            is_power(a/b, b)\n",
      "    else:\n",
      "        return False\n",
      "################################################################################\n",
      "print is_power(28,3)\n",
      "print is_power(27,3)\n",
      "print is_power(248832,12)\n",
      "print is_power(248844,12)"
     ],
     "language": "python",
     "metadata": {},
     "outputs": []
    },
    {
     "cell_type": "code",
     "collapsed": false,
     "input": [
      "#NEW\n",
      "################################################################################\n",
      "print is_power(1,10)\n",
      "print is_power(100,2)"
     ],
     "language": "python",
     "metadata": {},
     "outputs": []
    },
    {
     "cell_type": "code",
     "collapsed": false,
     "input": [
      "def is_power(a, b):\n",
      "    if (a % b != 0):                            # check for divisibility\n",
      "        return False\n",
      "    else:                      \n",
      "        n = 1\n",
      "        while n <= a / b:                       # upper limit\n",
      "            if (a / b) == b**(n-1):             # does a/b equal some power of b?\n",
      "                # print a, \"is\", b, \"to the power of\", n\n",
      "                return True\n",
      "            else:\n",
      "                n = n + 1\n",
      "        return False\n",
      "################################################################################\n",
      "print is_power(28,3)\n",
      "print is_power(27,3)\n",
      "print is_power(248832,12)\n",
      "print is_power(248844,12)"
     ],
     "language": "python",
     "metadata": {},
     "outputs": []
    },
    {
     "cell_type": "code",
     "collapsed": false,
     "input": [
      "#NEW\n",
      "################################################################################\n",
      "print is_power(1,10)\n",
      "print is_power(100,2)"
     ],
     "language": "python",
     "metadata": {},
     "outputs": []
    },
    {
     "cell_type": "code",
     "collapsed": false,
     "input": [],
     "language": "python",
     "metadata": {},
     "outputs": []
    }
   ],
   "metadata": {}
  }
 ]
}